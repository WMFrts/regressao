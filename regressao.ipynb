{
  "nbformat": 4,
  "nbformat_minor": 0,
  "metadata": {
    "colab": {
      "name": "regressao.ipynb",
      "provenance": [],
      "authorship_tag": "ABX9TyNFpuu+/TYd+gYmZeGfSk12",
      "include_colab_link": true
    },
    "kernelspec": {
      "name": "python3",
      "display_name": "Python 3"
    },
    "language_info": {
      "name": "python"
    }
  },
  "cells": [
    {
      "cell_type": "markdown",
      "metadata": {
        "id": "view-in-github",
        "colab_type": "text"
      },
      "source": [
        "<a href=\"https://colab.research.google.com/github/WMFrts/regressao/blob/main/regressao.ipynb\" target=\"_parent\"><img src=\"https://colab.research.google.com/assets/colab-badge.svg\" alt=\"Open In Colab\"/></a>"
      ]
    },
    {
      "cell_type": "markdown",
      "source": [
        "<h3><center>REGRESSÃO</center></h3>\n",
        "<p align=\"Justify\">É uma técnica que permite quantificar e inferir a relação de uma variável dependente (variável de resposta, objetivo) com variáveis independentes (variáveis explicativas, previsoras). A análise da regressão pode ser usada como um método descritivo da análise de dados (por exemplo, o ajustamento de curvas).</p>\n",
        "\n",
        "\n",
        "\n"
      ],
      "metadata": {
        "id": "D8HpJUkey_SQ"
      }
    },
    {
      "cell_type": "markdown",
      "source": [
        "**REGRESSÃO LINEAR SIMPLES**"
      ],
      "metadata": {
        "id": "uKX-f3GE0DGw"
      }
    },
    {
      "cell_type": "code",
      "execution_count": null,
      "metadata": {
        "id": "XujWIKoex8E_"
      },
      "outputs": [],
      "source": [
        "'''\n",
        "Regressão linear simples\n",
        "inclui somente duas variáveis: uma independente e uma dependente. \n",
        "A variável dependente é aquela que está sendo explicada, \n",
        "enquanto a variável independente é aquela que é utilizada \n",
        "para explicar a variação na variável dependente.\n",
        "\n",
        "Instalação da bibliotecas\n",
        "\n",
        "'''\n"
      ]
    },
    {
      "cell_type": "code",
      "source": [
        ""
      ],
      "metadata": {
        "id": "EsBUP9JszuUD"
      },
      "execution_count": null,
      "outputs": []
    }
  ]
}